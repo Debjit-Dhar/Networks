{
 "cells": [
  {
   "cell_type": "code",
   "execution_count": null,
   "id": "ab78a84e-834b-4333-ba37-a9f141de6d68",
   "metadata": {},
   "outputs": [],
   "source": [
    "import socket, threading, Utils as ut, Statistics as st\n",
    "\n",
    "rf, rn, rw = 0, 0, 4  # Frame-related variables\n",
    "receiver = socket.socket(socket.AF_INET, socket.SOCK_STREAM)\n",
    "receiver.connect(st.ADDR)\n",
    "\n",
    "def isCorrupted(data, crc):\n",
    "    return ut.crc4itu(data) != crc\n",
    "\n",
    "def recv():\n",
    "    global rn\n",
    "\n",
    "    while True:\n",
    "        try:\n",
    "            frame = receiver.recv(20).decode()\n",
    "            recv_n, _, data, crc = ut.receiveFrame(frame)\n",
    "        except ValueError:\n",
    "            break  # Terminate thread when no more data is received\n",
    "\n",
    "        print(f\"[RECV] Frame: {recv_n}, Data: {data}\")\n",
    "      \n",
    "        if isCorrupted(data, crc):\n",
    "            print(f\"[CRC FAILURE] Calculated: {ut.crc4itu(data)}, Received: {crc}\")\n",
    "            send_frame(recv_n, \"00001111\", \"NAK\")\n",
    "        else:\n",
    "            print(f\"[CRC SUCCESS] Calculated: {ut.crc4itu(data)}, Received: {crc}\")\n",
    "            send_frame(recv_n, \"11110000\", \"ACK\")\n",
    "\n",
    "        print(\"------------------------------------------------\")\n",
    "\n",
    "def send_frame(seq, msg, frame_type):\n",
    "    frame = ut.makeFrame(seq, msg)\n",
    "    receiver.send(frame.encode())\n",
    "    print(f\"[{frame_type} SENT] Frame: {seq}\")\n",
    "\n",
    "receiver_thread = threading.Thread(target=recv)\n",
    "receiver_thread.start()\n",
    "receiver_thread.join()\n",
    "\n",
    "print(\"[CLOSING] Closing receiver...\")\n",
    "receiver.close()\n"
   ]
  }
 ],
 "metadata": {
  "kernelspec": {
   "display_name": "Python 3 (ipykernel)",
   "language": "python",
   "name": "python3"
  },
  "language_info": {
   "codemirror_mode": {
    "name": "ipython",
    "version": 3
   },
   "file_extension": ".py",
   "mimetype": "text/x-python",
   "name": "python",
   "nbconvert_exporter": "python",
   "pygments_lexer": "ipython3",
   "version": "3.9.13"
  }
 },
 "nbformat": 4,
 "nbformat_minor": 5
}
