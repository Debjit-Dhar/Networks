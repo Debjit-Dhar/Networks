{
 "cells": [
  {
   "cell_type": "code",
   "execution_count": null,
   "id": "83d11c05-e676-4a8e-8c78-f01cc6257c74",
   "metadata": {},
   "outputs": [],
   "source": [
    "import socket, threading, utils as op, stats as st\n",
    "\n",
    "rn = 0\n",
    "receiver = socket.socket(socket.AF_INET, socket.SOCK_STREAM)\n",
    "receiver.connect(st.ADDR)\n",
    "\n",
    "# Check if the received frame is corrupted\n",
    "def isCorrupted(data, crc):\n",
    "    return op.crc4itu(data) != crc\n",
    "\n",
    "# Function to handle receiving frames\n",
    "def recvFrames():\n",
    "    global rn\n",
    "    while True:\n",
    "        try:\n",
    "            frame = receiver.recv(20).decode()\n",
    "            recv_n, _, data, crc = op.receiveFrame(frame)\n",
    "        except ValueError:  # Handles empty string when connection ends\n",
    "            return\n",
    "        \n",
    "        print(f\"[RECV] Received frame {recv_n}, data: {data}\")\n",
    "        \n",
    "        if data == 'q':  # Disconnect signal\n",
    "            break\n",
    "        \n",
    "        if not isCorrupted(data, crc) and recv_n == rn:\n",
    "            print(f\"[CRC SUCCESS] Data CRC: {op.crc4itu(data)}, Frame CRC: {crc}\")\n",
    "            sendAck()\n",
    "            rn += 1\n",
    "            print(\"[ACK SENT] Acknowledgement sent\")\n",
    "        else:\n",
    "            print(f\"[CRC FAILURE] Data CRC: {op.crc4itu(data)}, Frame CRC: {crc}\")\n",
    "\n",
    "# Function to send an acknowledgment\n",
    "def sendAck():\n",
    "    ack_frame = op.makeFrame(rn, \"11110000\")  # Acknowledgment frame\n",
    "    receiver.send(ack_frame.encode())\n",
    "\n",
    "# Start receiver thread\n",
    "receiver_thread = threading.Thread(target=recvFrames)\n",
    "receiver_thread.start()\n",
    "receiver_thread.join()\n",
    "\n",
    "print(\"[CLOSING] Closing receiver...\")\n",
    "receiver.close()\n"
   ]
  }
 ],
 "metadata": {
  "kernelspec": {
   "display_name": "Python 3 (ipykernel)",
   "language": "python",
   "name": "python3"
  },
  "language_info": {
   "codemirror_mode": {
    "name": "ipython",
    "version": 3
   },
   "file_extension": ".py",
   "mimetype": "text/x-python",
   "name": "python",
   "nbconvert_exporter": "python",
   "pygments_lexer": "ipython3",
   "version": "3.9.13"
  }
 },
 "nbformat": 4,
 "nbformat_minor": 5
}
