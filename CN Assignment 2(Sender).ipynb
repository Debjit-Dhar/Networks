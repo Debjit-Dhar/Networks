{
 "cells": [
  {
   "cell_type": "code",
   "execution_count": 11,
   "id": "68e32006-f651-489f-ba71-b5251e07052f",
   "metadata": {},
   "outputs": [],
   "source": [
    "import numpy as np\n",
    "import time"
   ]
  },
  {
   "cell_type": "markdown",
   "id": "16dd63dc-75c5-46ad-9a9e-301979a4caba",
   "metadata": {},
   "source": [
    "# Sender Program"
   ]
  },
  {
   "cell_type": "code",
   "execution_count": 1,
   "id": "746fcc87-b479-45f8-9c69-ecfc0bc44d4f",
   "metadata": {},
   "outputs": [],
   "source": [
    "def read_file(file):\n",
    "    with open(file,'r') as f:\n",
    "        s=f.read()\n",
    "    return s"
   ]
  },
  {
   "cell_type": "markdown",
   "id": "e7466a60-9d97-429e-be6f-7a930848dbf8",
   "metadata": {},
   "source": [
    "# Insert Header and Trailer"
   ]
  },
  {
   "cell_type": "markdown",
   "id": "19fbc84d-5fcd-4bb2-ae37-03033f231cad",
   "metadata": {},
   "source": [
    "# Get the mac address by using  ipconfig /all in command prompt"
   ]
  },
  {
   "cell_type": "code",
   "execution_count": 14,
   "id": "68e1084c-552f-4edd-ad8e-5bcf75834f6e",
   "metadata": {},
   "outputs": [],
   "source": [
    "def make_frame(data,divisor):\n",
    "    source='6018952B925C'#'0000'*5+'0001'#000001\n",
    "    dest='6018952B925C'#'0000'*5+'0010'#000010\n",
    "    length='0000000000000001'#=0001\n",
    "    frame_seq_no='00000001'#=01\n",
    "    trailer=crc(data,divisor)\n",
    "    header=source+dest+length+frame_seq_no\n",
    "    frame=header+data+trailer\n",
    "    return frame"
   ]
  },
  {
   "cell_type": "markdown",
   "id": "1d4d62a5-219a-4c87-9dc0-83363b0ace6c",
   "metadata": {},
   "source": [
    "# Calculate Checksum"
   ]
  },
  {
   "cell_type": "code",
   "execution_count": 4,
   "id": "5c023167-afa0-42f1-8df7-002bd94e57fd",
   "metadata": {},
   "outputs": [],
   "source": [
    "def checksum(s,clip):\n",
    "    l=[]\n",
    "    s='0'*(len(s)%clip)+s\n",
    "    for i in range(0,len(s),clip):\n",
    "        l.append(s[i:i+clip])\n",
    "    #print(l)\n",
    "    decimal=list(map(lambda x:int(x,2),l))\n",
    "    s_dec=sum(decimal)\n",
    "    #print(s_dec)\n",
    "    bin_s_dec=str(bin(s_dec)[2:])\n",
    "    \n",
    "    clip_val=int(bin_s_dec[len(bin_s_dec)-clip:],2)\n",
    "    #print(clip_val)\n",
    "    clip_val_before=int(bin_s_dec[:len(bin_s_dec)-clip],2)\n",
    "    \n",
    "    clip_sum=clip_val+clip_val_before\n",
    "    clip_sum_bin=str(bin(clip_sum)[2:])\n",
    "    if(clip-len(clip_sum_bin)>0):\n",
    "        clip_sum_bin='0'*(clip-len(clip_sum_bin))+clip_sum_bin\n",
    "    clip_sum_bin_complement = int(''.join('1' if bit == '0' else '0' for bit in clip_sum_bin),2)\n",
    "    decimal.append(clip_sum_bin_complement)\n",
    "    return decimal#BOOM This is the checksum"
   ]
  },
  {
   "cell_type": "code",
   "execution_count": 5,
   "id": "bbe1d5b0-5104-42f3-b94a-e4b0beaf1372",
   "metadata": {},
   "outputs": [
    {
     "name": "stdout",
     "output_type": "stream",
     "text": [
      "[7, 11, 12, 0, 6, 9]\n"
     ]
    }
   ],
   "source": [
    "print(checksum('01111011110000000110',4))"
   ]
  },
  {
   "cell_type": "markdown",
   "id": "cb16c9b0-6708-4c33-8c9c-e3e10b5a6cbf",
   "metadata": {},
   "source": [
    "# Calculate CRC"
   ]
  },
  {
   "cell_type": "code",
   "execution_count": 9,
   "id": "be9a7536-54e7-471a-bd86-c08f1a005d92",
   "metadata": {},
   "outputs": [],
   "source": [
    "def crc(s, divisor):\n",
    "    orig_s=s\n",
    "    s += '0' * (len(divisor) - 1)\n",
    "    s = list(s)\n",
    "    orig_divisor=divisor\n",
    "    divisor = list(divisor)\n",
    "    for i in range(len(s) - len(divisor) + 1):\n",
    "        if s[i] == '1':  # Only perform XOR if the bit is 1\n",
    "            for j in range(len(divisor)):\n",
    "                s[i + j] = str(int(s[i + j]) ^ int(divisor[j]))\n",
    "    remainder = ''.join(s[-(len(divisor) - 1):])\n",
    "    \n",
    "    return remainder"
   ]
  },
  {
   "cell_type": "code",
   "execution_count": 10,
   "id": "4358bf7a-3a80-46f1-bcbe-0d8f297a9635",
   "metadata": {},
   "outputs": [
    {
     "name": "stdout",
     "output_type": "stream",
     "text": [
      "110\n"
     ]
    }
   ],
   "source": [
    "print(crc('1001','1011'))"
   ]
  },
  {
   "cell_type": "markdown",
   "id": "053a000c-3d86-4cc4-8157-4290333c1513",
   "metadata": {},
   "source": [
    "# Insert Random Delay"
   ]
  },
  {
   "cell_type": "code",
   "execution_count": 12,
   "id": "d1a91220-e401-43b1-9bd9-28a7a71043c1",
   "metadata": {},
   "outputs": [],
   "source": [
    "def cal_delay(max_delay):\n",
    "    return np.random.randint(0,max_delay)"
   ]
  },
  {
   "cell_type": "markdown",
   "id": "6439e390-6198-415e-abe2-c99b390550e8",
   "metadata": {},
   "source": [
    "# 0=>Single Bit, 1=>Two Isolated Single Bit, 2=>Odd number of errors, 3=> Burst Errors"
   ]
  },
  {
   "cell_type": "code",
   "execution_count": 13,
   "id": "00574a90-392b-483c-a698-5a468334e686",
   "metadata": {},
   "outputs": [],
   "source": [
    "import numpy as np\n",
    "import time\n",
    "def error_inject(s, etype=4):\n",
    "    np.random.seed(int(time.time()))\n",
    "    #etype=np.random.randint(0, 8)changed\n",
    "    print(etype)\n",
    "    esize=np.random.randint(0,len(s))\n",
    "    s = list(s)  \n",
    "    \n",
    "    if etype == 0:\n",
    "        np.random.seed(int(time.time()))\n",
    "        ebit = np.random.randint(0, len(s))\n",
    "        s[ebit] = '1' if s[ebit] == '0' else '0'\n",
    "    \n",
    "    elif etype == 1:\n",
    "        np.random.seed(int(time.time()))\n",
    "        ebit1 = np.random.randint(0, len(s))\n",
    "        ebit2 = np.random.randint(0, len(s))\n",
    "        while ebit1 == ebit2 or abs(ebit1 - ebit2) == 1:\n",
    "            ebit1 = np.random.randint(0, len(s))\n",
    "            ebit2 = np.random.randint(0, len(s))\n",
    "        s[ebit1] = '1' if s[ebit1] == '0' else '0'\n",
    "        s[ebit2] = '1' if s[ebit2] == '0' else '0'\n",
    "    \n",
    "    elif etype == 2:\n",
    "        np.random.seed(int(time.time()))\n",
    "        mid = len(s) // 2\n",
    "        n_error = np.random.randint(0, mid) * 2 + 1\n",
    "        random_list = np.random.choice(len(s), n_error, replace=False)\n",
    "        for idx in random_list:\n",
    "            s[idx] = '1' if s[idx] == '0' else '0'\n",
    "    \n",
    "    elif etype == 3:\n",
    "        np.random.seed(int(time.time()))\n",
    "        random_list = np.random.choice(len(s), esize, replace=False)\n",
    "        print(random_list)\n",
    "        for idx in random_list:\n",
    "            s[idx] = '1' if s[idx] == '0' else '0'\n",
    "    else:\n",
    "        pass\n",
    "    s[3]='0'\n",
    "    s[19]='1'\n",
    "    return ''.join(s)  "
   ]
  },
  {
   "cell_type": "markdown",
   "id": "12a4777e-4f60-46ee-947f-f044bfad670d",
   "metadata": {},
   "source": [
    "\n",
    "# First get s from text file, then call error_inject then call either crc or checksum then send the codeword along with the divisor or checksum as applicable"
   ]
  },
  {
   "cell_type": "code",
   "execution_count": 11,
   "id": "a7a5c2e7-04a0-49ad-a6d2-d686a0c67994",
   "metadata": {},
   "outputs": [],
   "source": [
    "import socket\n",
    "import time\n",
    "import pickle"
   ]
  },
  {
   "cell_type": "code",
   "execution_count": 12,
   "id": "ef925260-26eb-423e-92e1-3cfff08956e0",
   "metadata": {},
   "outputs": [],
   "source": [
    "def send_binary_string(filename, choice,host, port):\n",
    "    s=read_file(filename)\n",
    "    s_error=error_inject(s,1)\n",
    "    #augword=checksum or remainder(in case of crc)\n",
    "    if choice==1:#checksum\n",
    "        clip=int(input('Enter clip size'))\n",
    "        augword=checksum(s,clip)\n",
    "        serialized_data=pickle.dumps((s_error,clip,augword,choice))\n",
    "    else:\n",
    "        divisor=input('Enter divisor')\n",
    "        augword=crc(s,divisor)\n",
    "        serialized_data = pickle.dumps((s_error,divisor,augword,choice))\n",
    "    # Create a socket object\n",
    "    with socket.socket(socket.AF_INET, socket.SOCK_STREAM) as s:\n",
    "        # Connect to the receiver\n",
    "        s.connect((host, port))\n",
    "        \n",
    "        # Send the serialized data\n",
    "        s.sendall(serialized_data)"
   ]
  },
  {
   "cell_type": "code",
   "execution_count": 39,
   "id": "55047e0d-242e-4778-8893-89bd397dd2c7",
   "metadata": {},
   "outputs": [
    {
     "name": "stdin",
     "output_type": "stream",
     "text": [
      "Enter choice 1\n"
     ]
    },
    {
     "name": "stdout",
     "output_type": "stream",
     "text": [
      "1\n"
     ]
    },
    {
     "name": "stdin",
     "output_type": "stream",
     "text": [
      "Enter clip size 4\n"
     ]
    }
   ],
   "source": [
    "if __name__ == '__main__':\n",
    "    # Change these to your server's address and port\n",
    "    HOST = 'localhost'\n",
    "    PORT = 65432\n",
    "    filename='C:/Users/sudip/PycharmProjects/pythonProject1/My Python Programs/DSA and OOPs and Machine Learning/bin_data.txt'\n",
    "    choice=int(input('Enter choice'))\n",
    "    send_binary_string(filename,choice,HOST,PORT)"
   ]
  },
  {
   "cell_type": "code",
   "execution_count": null,
   "id": "851694af-2921-4b13-9f38-5397741cf04a",
   "metadata": {},
   "outputs": [],
   "source": []
  }
 ],
 "metadata": {
  "kernelspec": {
   "display_name": "Python 3 (ipykernel)",
   "language": "python",
   "name": "python3"
  },
  "language_info": {
   "codemirror_mode": {
    "name": "ipython",
    "version": 3
   },
   "file_extension": ".py",
   "mimetype": "text/x-python",
   "name": "python",
   "nbconvert_exporter": "python",
   "pygments_lexer": "ipython3",
   "version": "3.9.13"
  }
 },
 "nbformat": 4,
 "nbformat_minor": 5
}
