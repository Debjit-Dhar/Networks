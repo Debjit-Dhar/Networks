{
 "cells": [
  {
   "cell_type": "code",
   "execution_count": 1,
   "id": "9bea568f-c738-450a-b39e-00315db858ae",
   "metadata": {},
   "outputs": [],
   "source": [
    "import numpy as np\n",
    "import math\n",
    "import pickle"
   ]
  },
  {
   "cell_type": "code",
   "execution_count": 2,
   "id": "a64538da-dcd0-4646-9645-e920a332e832",
   "metadata": {},
   "outputs": [],
   "source": [
    "def code_size(n):\n",
    "    N=2**math.ceil(math.log(n)/math.log(2))\n",
    "    return N"
   ]
  },
  {
   "cell_type": "code",
   "execution_count": 3,
   "id": "e12310bb-9b1c-4c89-9303-c1a26b117077",
   "metadata": {},
   "outputs": [],
   "source": [
    "def create_code(n):\n",
    "    r=range(code_size(n))\n",
    "    return np.array([[int(bin(x&y),13)%2or-1for x in r]for y in r])"
   ]
  },
  {
   "cell_type": "code",
   "execution_count": 4,
   "id": "8747a47c-4e7f-4299-9242-4f1867494be8",
   "metadata": {},
   "outputs": [],
   "source": [
    "def decode_data(data):\n",
    "    code=create_code(len(data))\n",
    "    stations=len(data)\n",
    "    return np.sum(code*data,axis=1)/stations"
   ]
  },
  {
   "cell_type": "code",
   "execution_count": 5,
   "id": "1a97d70b-3bae-467d-a1f9-a51e3e6971fc",
   "metadata": {},
   "outputs": [
    {
     "data": {
      "text/plain": [
       "array([-1., -1.,  0.,  1.])"
      ]
     },
     "execution_count": 5,
     "metadata": {},
     "output_type": "execute_result"
    }
   ],
   "source": [
    "data=np.array([-1, -1, -3,  1])\n",
    "decode_data(data)"
   ]
  },
  {
   "cell_type": "code",
   "execution_count": 6,
   "id": "8debc87b-22a4-4abd-a943-d2b54a3dca49",
   "metadata": {},
   "outputs": [],
   "source": [
    "import socket\n",
    "def receive(host, port):\n",
    "    # Create a socket object\n",
    "    with socket.socket(socket.AF_INET, socket.SOCK_STREAM) as s:\n",
    "        # Bind the socket to the address and port\n",
    "        s.bind((host, port))\n",
    "        # Listen for incoming connections\n",
    "        s.listen()\n",
    "        \n",
    "        # Accept a connection\n",
    "        conn, addr = s.accept()\n",
    "        with conn:\n",
    "            print(f'Connected by {addr}')\n",
    "            # Receive the serialized data\n",
    "            data = b''\n",
    "            while True:\n",
    "                packet = conn.recv(4096)\n",
    "                if not packet:\n",
    "                    break\n",
    "                data += packet\n",
    "    data=pickle.loads(data)\n",
    "    data=decode_data(data)\n",
    "    for i in range(len(data)):\n",
    "        if data[i]==0:\n",
    "            data[i]=None\n",
    "        elif data[i]==-1:\n",
    "            data[i]=0\n",
    "    print(data)"
   ]
  },
  {
   "cell_type": "code",
   "execution_count": 7,
   "id": "5f19e740-695b-481c-bd25-f384efbff10f",
   "metadata": {},
   "outputs": [],
   "source": [
    "host='localhost'\n",
    "port=63000"
   ]
  },
  {
   "cell_type": "code",
   "execution_count": 8,
   "id": "2264a621-c75d-42eb-a2b8-fb0dabe47ac3",
   "metadata": {},
   "outputs": [
    {
     "name": "stdout",
     "output_type": "stream",
     "text": [
      "Connected by ('127.0.0.1', 50633)\n",
      "[ 1. nan  0.  1.  1.  0. nan  1.]\n"
     ]
    }
   ],
   "source": [
    "receive(host,port)"
   ]
  },
  {
   "cell_type": "code",
   "execution_count": null,
   "id": "9add0699-22c2-4b2d-a025-b5cb67e922df",
   "metadata": {},
   "outputs": [],
   "source": []
  }
 ],
 "metadata": {
  "kernelspec": {
   "display_name": "Python 3 (ipykernel)",
   "language": "python",
   "name": "python3"
  },
  "language_info": {
   "codemirror_mode": {
    "name": "ipython",
    "version": 3
   },
   "file_extension": ".py",
   "mimetype": "text/x-python",
   "name": "python",
   "nbconvert_exporter": "python",
   "pygments_lexer": "ipython3",
   "version": "3.9.13"
  }
 },
 "nbformat": 4,
 "nbformat_minor": 5
}
