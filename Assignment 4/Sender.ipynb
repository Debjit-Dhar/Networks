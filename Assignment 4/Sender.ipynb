{
 "cells": [
  {
   "cell_type": "code",
   "execution_count": 1,
   "id": "5e478a0b-c303-47d9-89fd-25b9e78a5614",
   "metadata": {},
   "outputs": [],
   "source": [
    "import numpy as np\n",
    "import math\n",
    "import pickle"
   ]
  },
  {
   "cell_type": "code",
   "execution_count": 2,
   "id": "4e02aed0-70cb-41fd-ba86-63c7e2781332",
   "metadata": {},
   "outputs": [],
   "source": [
    "def code_size(n):\n",
    "    N=2**math.ceil(math.log(n)/math.log(2))\n",
    "    return N"
   ]
  },
  {
   "cell_type": "code",
   "execution_count": 3,
   "id": "c9d51ec5-5575-4e14-9f8e-6aa40c2403f5",
   "metadata": {},
   "outputs": [],
   "source": [
    "def create_code(n):\n",
    "    r=range(code_size(n))\n",
    "    return np.array([[int(bin(x&y),13)%2or-1for x in r]for y in r])"
   ]
  },
  {
   "cell_type": "code",
   "execution_count": 4,
   "id": "467591f9-ad31-4194-aef7-f9a9f8f8718d",
   "metadata": {},
   "outputs": [
    {
     "data": {
      "text/plain": [
       "array([[ 1,  1,  1,  1],\n",
       "       [ 1, -1,  1, -1],\n",
       "       [ 1,  1, -1, -1],\n",
       "       [ 1, -1, -1,  1]])"
      ]
     },
     "execution_count": 4,
     "metadata": {},
     "output_type": "execute_result"
    }
   ],
   "source": [
    "create_code(4)"
   ]
  },
  {
   "cell_type": "code",
   "execution_count": 5,
   "id": "31e95482-b64a-43eb-b151-9b482e088587",
   "metadata": {},
   "outputs": [],
   "source": [
    "def code_data(d):\n",
    "    code=create_code(len(d))\n",
    "    size=code_size(len(d))\n",
    "    coded=np.zeros((size,len(d)))\n",
    "    coded=(code*d).T\n",
    "    return np.sum(coded,axis=0)"
   ]
  },
  {
   "cell_type": "code",
   "execution_count": 6,
   "id": "fc7bbd84-62d2-4c63-9140-ccb711f18df9",
   "metadata": {},
   "outputs": [
    {
     "data": {
      "text/plain": [
       "array([-1, -1, -3,  1])"
      ]
     },
     "execution_count": 6,
     "metadata": {},
     "output_type": "execute_result"
    }
   ],
   "source": [
    "data=np.array([-1,-1,0,1])\n",
    "code_data(data)"
   ]
  },
  {
   "cell_type": "code",
   "execution_count": 7,
   "id": "92b30e77-0685-48ee-b24b-26da23660bc3",
   "metadata": {},
   "outputs": [],
   "source": [
    "def get_data(num_senders):\n",
    "    data=[]\n",
    "    for i in range(num_senders):\n",
    "        inp=input('Enter bit')\n",
    "        if len(inp)==0:\n",
    "            data.append(0)\n",
    "        elif int(inp)==1:\n",
    "            data.append(1)\n",
    "        else:\n",
    "            data.append(-1)\n",
    "    return np.array(data)"
   ]
  },
  {
   "cell_type": "code",
   "execution_count": 8,
   "id": "c5905a5c-f341-4c18-b5f3-65c4ccddd3ed",
   "metadata": {},
   "outputs": [],
   "source": [
    "import socket\n",
    "def send(num_senders,host,port):\n",
    "    data=get_data(num_senders)\n",
    "    with socket.socket(socket.AF_INET, socket.SOCK_STREAM) as s:\n",
    "        # Connect to the receiver\n",
    "        s.connect((host, port))\n",
    "        data=code_data(data)\n",
    "        serialized_data = pickle.dumps(data)\n",
    "        # Send the serialized data\n",
    "        s.sendall(serialized_data)"
   ]
  },
  {
   "cell_type": "code",
   "execution_count": 9,
   "id": "9437cf25-b4c1-4680-8201-1eda6b64d1c6",
   "metadata": {},
   "outputs": [],
   "source": [
    "host='localhost'\n",
    "port=63000\n",
    "num_senders=8"
   ]
  },
  {
   "cell_type": "code",
   "execution_count": 10,
   "id": "407a9a4b-662a-4b4c-9bbe-f704473646de",
   "metadata": {},
   "outputs": [
    {
     "name": "stdin",
     "output_type": "stream",
     "text": [
      "Enter bit 1\n",
      "Enter bit \n",
      "Enter bit 0\n",
      "Enter bit 1\n",
      "Enter bit 1\n",
      "Enter bit 0\n",
      "Enter bit \n",
      "Enter bit 1\n"
     ]
    }
   ],
   "source": [
    "send(num_senders,host,port)"
   ]
  },
  {
   "cell_type": "code",
   "execution_count": null,
   "id": "8317bbcd-7f73-4eb3-884a-cb5d1ed8be05",
   "metadata": {},
   "outputs": [],
   "source": []
  }
 ],
 "metadata": {
  "kernelspec": {
   "display_name": "Python 3 (ipykernel)",
   "language": "python",
   "name": "python3"
  },
  "language_info": {
   "codemirror_mode": {
    "name": "ipython",
    "version": 3
   },
   "file_extension": ".py",
   "mimetype": "text/x-python",
   "name": "python",
   "nbconvert_exporter": "python",
   "pygments_lexer": "ipython3",
   "version": "3.9.13"
  }
 },
 "nbformat": 4,
 "nbformat_minor": 5
}
