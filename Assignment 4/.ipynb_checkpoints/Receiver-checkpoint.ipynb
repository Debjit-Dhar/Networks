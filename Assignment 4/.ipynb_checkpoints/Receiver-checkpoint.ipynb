{
 "cells": [
  {
   "cell_type": "code",
   "execution_count": 1,
   "id": "9bea568f-c738-450a-b39e-00315db858ae",
   "metadata": {},
   "outputs": [],
   "source": [
    "import numpy as np"
   ]
  },
  {
   "cell_type": "code",
   "execution_count": 8,
   "id": "8747a47c-4e7f-4299-9242-4f1867494be8",
   "metadata": {},
   "outputs": [],
   "source": [
    "def decode_data(code,data,stations):\n",
    "    return np.sum(code*data,axis=1)/stations"
   ]
  },
  {
   "cell_type": "code",
   "execution_count": 9,
   "id": "1a97d70b-3bae-467d-a1f9-a51e3e6971fc",
   "metadata": {},
   "outputs": [
    {
     "data": {
      "text/plain": [
       "array([-1., -1.,  0.,  1.])"
      ]
     },
     "execution_count": 9,
     "metadata": {},
     "output_type": "execute_result"
    }
   ],
   "source": [
    "code=np.array([[ 1,  1,  1,  1],\n",
    "       [ 1, -1,  1, -1],\n",
    "       [ 1,  1, -1, -1],\n",
    "       [ 1, -1, -1,  1]])\n",
    "data=np.array([-1, -1, -3,  1])\n",
    "decode_data(code,data,4)"
   ]
  },
  {
   "cell_type": "code",
   "execution_count": null,
   "id": "381ae0e7-aaab-43a8-8614-d1c11c109919",
   "metadata": {},
   "outputs": [],
   "source": []
  }
 ],
 "metadata": {
  "kernelspec": {
   "display_name": "Python 3 (ipykernel)",
   "language": "python",
   "name": "python3"
  },
  "language_info": {
   "codemirror_mode": {
    "name": "ipython",
    "version": 3
   },
   "file_extension": ".py",
   "mimetype": "text/x-python",
   "name": "python",
   "nbconvert_exporter": "python",
   "pygments_lexer": "ipython3",
   "version": "3.9.13"
  }
 },
 "nbformat": 4,
 "nbformat_minor": 5
}
