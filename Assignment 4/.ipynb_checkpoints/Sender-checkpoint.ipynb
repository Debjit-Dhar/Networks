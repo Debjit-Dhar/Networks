{
 "cells": [
  {
   "cell_type": "code",
   "execution_count": 42,
   "id": "5e478a0b-c303-47d9-89fd-25b9e78a5614",
   "metadata": {},
   "outputs": [],
   "source": [
    "import numpy as np\n",
    "import math"
   ]
  },
  {
   "cell_type": "code",
   "execution_count": 43,
   "id": "4e02aed0-70cb-41fd-ba86-63c7e2781332",
   "metadata": {},
   "outputs": [],
   "source": [
    "def code_size(n):\n",
    "    N=2**math.ceil(math.log(n)/math.log(2))\n",
    "    return N"
   ]
  },
  {
   "cell_type": "code",
   "execution_count": 44,
   "id": "c9d51ec5-5575-4e14-9f8e-6aa40c2403f5",
   "metadata": {},
   "outputs": [],
   "source": [
    "def create_code(n):\n",
    "    r=range(code_size(n))\n",
    "    return np.array([[int(bin(x&y),13)%2or-1for x in r]for y in r])"
   ]
  },
  {
   "cell_type": "code",
   "execution_count": 45,
   "id": "467591f9-ad31-4194-aef7-f9a9f8f8718d",
   "metadata": {},
   "outputs": [
    {
     "data": {
      "text/plain": [
       "array([[ 1,  1,  1,  1],\n",
       "       [ 1, -1,  1, -1],\n",
       "       [ 1,  1, -1, -1],\n",
       "       [ 1, -1, -1,  1]])"
      ]
     },
     "execution_count": 45,
     "metadata": {},
     "output_type": "execute_result"
    }
   ],
   "source": [
    "create_code(4)"
   ]
  },
  {
   "cell_type": "code",
   "execution_count": 73,
   "id": "31e95482-b64a-43eb-b151-9b482e088587",
   "metadata": {},
   "outputs": [],
   "source": [
    "def code_data(d):\n",
    "    code=create_code(len(d))\n",
    "    size=code_size(len(d))\n",
    "    coded=np.zeros((size,len(d)))\n",
    "    coded=(code*d).T\n",
    "    return np.sum(coded,axis=0)"
   ]
  },
  {
   "cell_type": "code",
   "execution_count": 74,
   "id": "fc7bbd84-62d2-4c63-9140-ccb711f18df9",
   "metadata": {},
   "outputs": [
    {
     "data": {
      "text/plain": [
       "array([-1, -1, -3,  1])"
      ]
     },
     "execution_count": 74,
     "metadata": {},
     "output_type": "execute_result"
    }
   ],
   "source": [
    "data=np.array([-1,-1,0,1])\n",
    "code_data(data)"
   ]
  },
  {
   "cell_type": "code",
   "execution_count": null,
   "id": "d7e623c3-92b7-45ae-9cd7-c3f41dbe2a5e",
   "metadata": {},
   "outputs": [],
   "source": []
  }
 ],
 "metadata": {
  "kernelspec": {
   "display_name": "Python 3 (ipykernel)",
   "language": "python",
   "name": "python3"
  },
  "language_info": {
   "codemirror_mode": {
    "name": "ipython",
    "version": 3
   },
   "file_extension": ".py",
   "mimetype": "text/x-python",
   "name": "python",
   "nbconvert_exporter": "python",
   "pygments_lexer": "ipython3",
   "version": "3.9.13"
  }
 },
 "nbformat": 4,
 "nbformat_minor": 5
}
