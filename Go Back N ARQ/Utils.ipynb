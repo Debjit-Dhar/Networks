{
 "cells": [
  {
   "cell_type": "code",
   "execution_count": null,
   "id": "f4fc3f51-bde7-4193-b2b4-7560b72d89a0",
   "metadata": {},
   "outputs": [],
   "source": [
    "import random\n",
    "import Statitics as st\n",
    "import time\n",
    "\n",
    "# Simulate a noisy channel by flipping random bits in the data section of the frame\n",
    "def noisychannel(frame):\n",
    "    data_start = -st.CRC_SIZE - st.DATA_SIZE\n",
    "    frame_list = list(frame[data_start:-st.CRC_SIZE])  # Extract data section as list\n",
    "    num_bits_to_flip = random.randint(0, len(frame_list) - 1)\n",
    "    \n",
    "    positions = random.sample(range(len(frame_list)), num_bits_to_flip)\n",
    "    for pos in positions:\n",
    "        frame_list[pos] = '1' if frame_list[pos] == '0' else '0'  # Flip bits\n",
    "    \n",
    "    return frame[:data_start] + ''.join(frame_list) + frame[-st.CRC_SIZE:]\n",
    "\n",
    "# Simulate a random delay of up to 5 seconds\n",
    "def delay():\n",
    "    time.sleep(random.randint(0, 5))\n",
    "\n",
    "# XOR operation between two binary strings\n",
    "def xor(a, b):\n",
    "    return ''.join('0' if x == y else '1' for x, y in zip(a, b))\n",
    "\n",
    "# Perform binary division for CRC calculation\n",
    "def binary_division(dividend, divisor):\n",
    "    rem = dividend[:len(divisor)]\n",
    "    for i in range(len(divisor), len(dividend)):\n",
    "        if rem[0] == '1':\n",
    "            rem = xor(rem, divisor)[1:] + dividend[i]\n",
    "        else:\n",
    "            rem = rem[1:] + dividend[i]\n",
    "    return rem[1:]  # Return remainder after division\n",
    "\n",
    "# Calculate CRC using the CRC-4-ITU polynomial\n",
    "def crc4itu(data):\n",
    "    divisor = \"10011\"\n",
    "    return binary_division(data + '0000', divisor)\n",
    "\n",
    "# Create a frame with sequence number, length, data, and CRC\n",
    "def makeFrame(n, data):\n",
    "    frame = (\n",
    "        str(n).zfill(st.N_SIZE) +  # Sequence number\n",
    "        str(len(data)).zfill(st.LENGTH_SIZE) +  # Length\n",
    "        data.zfill(st.DATA_SIZE) +  # Data (padded)\n",
    "        crc4itu(data).zfill(st.CRC_SIZE)  # CRC\n",
    "    )\n",
    "    return frame\n",
    "\n",
    "# Extract information from the received frame\n",
    "def receiveFrame(frame):\n",
    "    n = int(frame[:st.N_SIZE])  # Sequence number\n",
    "    l = int(frame[st.N_SIZE:st.N_SIZE + st.LENGTH_SIZE])  # Length\n",
    "    data = frame[-st.CRC_SIZE - l:-st.CRC_SIZE]  # Data\n",
    "    crc = frame[-st.CRC_SIZE:] if data != 'q' else ''\n",
    "    return n, l, data, crc\n"
   ]
  },
  {
   "cell_type": "code",
   "execution_count": null,
   "id": "1783a28d-3858-4b33-b51f-1bd174a7cf86",
   "metadata": {},
   "outputs": [],
   "source": []
  }
 ],
 "metadata": {
  "kernelspec": {
   "display_name": "Python 3 (ipykernel)",
   "language": "python",
   "name": "python3"
  },
  "language_info": {
   "codemirror_mode": {
    "name": "ipython",
    "version": 3
   },
   "file_extension": ".py",
   "mimetype": "text/x-python",
   "name": "python",
   "nbconvert_exporter": "python",
   "pygments_lexer": "ipython3",
   "version": "3.9.13"
  }
 },
 "nbformat": 4,
 "nbformat_minor": 5
}
