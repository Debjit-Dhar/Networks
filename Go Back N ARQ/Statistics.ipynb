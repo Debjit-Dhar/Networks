{
 "cells": [
  {
   "cell_type": "code",
   "execution_count": 2,
   "id": "5332b307-5424-4d40-92b7-f8bc95d01800",
   "metadata": {},
   "outputs": [],
   "source": [
    "import socket\n",
    "import time\n",
    "import random\n",
    "\n",
    "# SOCKET VARIABLES\n",
    "PORT = 62000 \n",
    "HOST_IP = socket.gethostbyname(socket.gethostname())\n",
    "ADDR = (HOST_IP, PORT)\n",
    "\n",
    "# DISCONNECT MESSAGE\n",
    "DISCONNECT = '1111'\n",
    "\n",
    "# SIZE OF FRAME PARTS\n",
    "N_SIZE = 2\n",
    "LENGTH_SIZE = 3\n",
    "DATA_SIZE = 11\n",
    "CRC_SIZE = 4\n",
    "\n",
    "ack_frame = \"11110000\"\n",
    "\n",
    "# FRAME FORMAT = [NN][LLL][DDDDDDDDDDDDDDD][CCCCCC]        \n",
    "# where D --> data, L --> length, N --> pckt no., C --> CRC"
   ]
  },
  {
   "cell_type": "code",
   "execution_count": null,
   "id": "e23f2d08-cf59-454c-b093-3ee0fbfae3e6",
   "metadata": {},
   "outputs": [],
   "source": []
  }
 ],
 "metadata": {
  "kernelspec": {
   "display_name": "Python 3 (ipykernel)",
   "language": "python",
   "name": "python3"
  },
  "language_info": {
   "codemirror_mode": {
    "name": "ipython",
    "version": 3
   },
   "file_extension": ".py",
   "mimetype": "text/x-python",
   "name": "python",
   "nbconvert_exporter": "python",
   "pygments_lexer": "ipython3",
   "version": "3.9.13"
  }
 },
 "nbformat": 4,
 "nbformat_minor": 5
}
