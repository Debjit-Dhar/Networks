{
 "cells": [
  {
   "cell_type": "markdown",
   "id": "653e1e58-93f3-47f0-a137-d6b33aa43ac2",
   "metadata": {},
   "source": [
    "# Receiver"
   ]
  },
  {
   "cell_type": "code",
   "execution_count": 1,
   "id": "e7c18dbf-653c-49bb-8ee9-aa1272b55080",
   "metadata": {},
   "outputs": [],
   "source": [
    "def is_error_checksum(s, clip, checksum):  # True if error False if no error\n",
    "    l = []\n",
    "    s = '0' * (len(s) % clip) + s\n",
    "    for i in range(0, len(s), clip):\n",
    "        l.append(s[i:i+clip])\n",
    "    decimal = list(map(lambda x: int(x, 2), l))\n",
    "    s_dec = sum(decimal)\n",
    "    \n",
    "    s_dec += checksum\n",
    "    print(s_dec)\n",
    "    bin_s_dec = str(bin(s_dec)[2:])\n",
    "    \n",
    "    clip_val = int(bin_s_dec[len(bin_s_dec)-clip:], 2)\n",
    "    clip_val_before = int(bin_s_dec[:len(bin_s_dec)-clip], 2)\n",
    "    \n",
    "    clip_sum = clip_val + clip_val_before\n",
    "    clip_sum_bin = str(bin(clip_sum)[2:])\n",
    "    return not all(char == '1' for char in clip_sum_bin)\n"
   ]
  },
  {
   "cell_type": "code",
   "execution_count": 2,
   "id": "ff559be5-6f01-4b24-8ca8-7f2b6dd07c38",
   "metadata": {},
   "outputs": [
    {
     "name": "stdout",
     "output_type": "stream",
     "text": [
      "45\n",
      "False\n"
     ]
    }
   ],
   "source": [
    "print(is_error_checksum('01111011110000000110',4,9))"
   ]
  },
  {
   "cell_type": "code",
   "execution_count": 3,
   "id": "fd0c55f1-e1bf-42a6-8ccd-f24ea54af8ef",
   "metadata": {},
   "outputs": [],
   "source": [
    "def is_error_crc(s, divisor, augword):  # True if error False if no error\n",
    "    s += augword\n",
    "    s = list(s)\n",
    "    divisor = list(divisor)\n",
    "    for i in range(len(s) - len(divisor) + 1):\n",
    "        if s[i] == '1':  # Only perform XOR if the bit is 1\n",
    "            for j in range(len(divisor)):\n",
    "                s[i + j] = str(int(s[i + j]) ^ int(divisor[j]))\n",
    "    remainder = ''.join(s[-(len(divisor) - 1):])\n",
    "    r = int(remainder, 2)\n",
    "    return r != 0"
   ]
  },
  {
   "cell_type": "code",
   "execution_count": 4,
   "id": "d83e77f6-daf2-41ba-89fa-953cf633f3ae",
   "metadata": {},
   "outputs": [
    {
     "name": "stdout",
     "output_type": "stream",
     "text": [
      "False\n"
     ]
    }
   ],
   "source": [
    "print(is_error_crc('1001','1011', '110'))"
   ]
  },
  {
   "cell_type": "code",
   "execution_count": 5,
   "id": "fade5d94-6ab5-4721-a1bc-45493a2bc536",
   "metadata": {},
   "outputs": [],
   "source": [
    "import socket\n",
    "import pickle"
   ]
  },
  {
   "cell_type": "code",
   "execution_count": 6,
   "id": "9d5fe238-ed81-4ea6-aebe-4cd477e1c3d2",
   "metadata": {},
   "outputs": [],
   "source": [
    "def receive_binary_string(host, port):\n",
    "    # Create a socket object\n",
    "    ''' # Create a UDP socket object\n",
    "    with socket.socket(socket.AF_INET, socket.SOCK_DGRAM) as udp_socket:\n",
    "        # Bind the socket to the address and port\n",
    "        udp_socket.bind((host, port))\n",
    "        \n",
    "        print(f'Listening on {host}:{port}...')\n",
    "        \n",
    "        # Receive the serialized data (UDP is connectionless, so no accept/listen)\n",
    "        data, addr = udp_socket.recvfrom(4096)'''\n",
    "    with socket.socket(socket.AF_INET, socket.SOCK_STREAM) as s:\n",
    "        # Bind the socket to the address and port\n",
    "        s.bind((host, port))\n",
    "        # Listen for incoming connections\n",
    "        s.listen()\n",
    "        \n",
    "        # Accept a connection\n",
    "        conn, addr = s.accept()\n",
    "        with conn:\n",
    "            print(f'Connected by {addr}')\n",
    "            # Receive the serialized data\n",
    "            data = b''\n",
    "            while True:\n",
    "                packet = conn.recv(4096)\n",
    "                if not packet:\n",
    "                    break\n",
    "                data += packet\n",
    "            \n",
    "            # Deserialize the tuple\n",
    "            s_error, other, augword, choice = pickle.loads(data)  # other is the checksum or divisor as the case may be\n",
    "            if choice == 1:  # Checksum                \n",
    "                is_error = is_error_checksum(s_error, other, int(augword[-1]))\n",
    "            else:  # CRC\n",
    "                is_error = is_error_crc(s_error, other, augword)\n",
    "            print(f'Received tuple of strings: {s_error, other, augword, choice}')\n",
    "    return is_error\n"
   ]
  },
  {
   "cell_type": "code",
   "execution_count": 8,
   "id": "a59d3536-9f7c-48cc-a2d1-1bfeab881933",
   "metadata": {},
   "outputs": [
    {
     "name": "stdout",
     "output_type": "stream",
     "text": [
      "Connected by ('127.0.0.1', 62013)\n",
      "53\n",
      "Received tuple of strings: ('01111011110000001110', 4, [7, 11, 12, 0, 6, 9], 1)\n",
      "Error\n"
     ]
    }
   ],
   "source": [
    "if __name__ == '__main__':\n",
    "    # Change these to your server's address and port\n",
    "    HOST = 'localhost'\n",
    "    PORT = 65432\n",
    "    \n",
    "    if receive_binary_string(HOST, PORT):\n",
    "        print('Error')\n",
    "    else:\n",
    "        print('No Error')"
   ]
  },
  {
   "cell_type": "code",
   "execution_count": null,
   "id": "a844f553-a72e-424f-bff7-527e2fdd614e",
   "metadata": {},
   "outputs": [],
   "source": []
  }
 ],
 "metadata": {
  "kernelspec": {
   "display_name": "Python 3 (ipykernel)",
   "language": "python",
   "name": "python3"
  },
  "language_info": {
   "codemirror_mode": {
    "name": "ipython",
    "version": 3
   },
   "file_extension": ".py",
   "mimetype": "text/x-python",
   "name": "python",
   "nbconvert_exporter": "python",
   "pygments_lexer": "ipython3",
   "version": "3.9.13"
  }
 },
 "nbformat": 4,
 "nbformat_minor": 5
}
