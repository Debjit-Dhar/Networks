{
 "cells": [
  {
   "cell_type": "code",
   "execution_count": null,
   "id": "ed989c2a-e7db-42c2-b036-e944a22882cb",
   "metadata": {},
   "outputs": [],
   "source": [
    "import random\n",
    "import time\n",
    "import Statistics as st\n",
    "\n",
    "# Inject noise into the data part of the frame\n",
    "def noisychannel(frame):\n",
    "    frame_list = list(frame[-st.CRC_SIZE-st.DATA_SIZE:-st.CRC_SIZE])\n",
    "    # Randomly select positions to flip bits\n",
    "    positions = random.sample(range(len(frame_list)), random.randint(0, len(frame_list) - 1))\n",
    "    for index in positions:\n",
    "        frame_list[index] = '1' if frame_list[index] == '0' else '0'\n",
    "    \n",
    "    # Rebuild the frame with the modified data\n",
    "    return frame[:st.N_SIZE + st.LENGTH_SIZE] + ''.join(frame_list) + frame[-st.CRC_SIZE:]\n",
    "\n",
    "# Introduce random delay up to 5 seconds\n",
    "def delay():\n",
    "    time.sleep(random.randint(0, 5))\n",
    "\n",
    "# XOR operation between two binary strings\n",
    "def xor(a, b):\n",
    "    return ''.join('0' if a[i] == b[i] else '1' for i in range(len(b)))\n",
    "\n",
    "# Perform binary division for CRC calculation\n",
    "def binary_division(dividend, divisor):\n",
    "    rem = dividend[:len(divisor)]\n",
    "    for i in range(len(divisor), len(dividend)):\n",
    "        rem = xor(rem, divisor)[1:] if rem[0] == '1' else rem[1:]\n",
    "        rem += dividend[i]\n",
    "    return rem\n",
    "\n",
    "# CRC-4 ITU calculation\n",
    "def crc4itu(frame):\n",
    "    return binary_division(frame + '0000', \"10011\")\n",
    "\n",
    "# Create a frame with given nth frame number and data\n",
    "def makeFrame(n, data):\n",
    "    frame = f\"{str(n).zfill(st.N_SIZE)}{str(len(data)).zfill(st.LENGTH_SIZE)}{data.zfill(st.DATA_SIZE)}{crc4itu(data).zfill(st.CRC_SIZE)}\"\n",
    "    return frame\n",
    "\n",
    "# Extract details from received frame\n",
    "def receiveFrame(frame):\n",
    "    n = int(frame[:st.N_SIZE])\n",
    "    l = int(frame[st.N_SIZE:st.N_SIZE + st.LENGTH_SIZE])\n",
    "    data = frame[-st.CRC_SIZE-l:-st.CRC_SIZE]\n",
    "    crc = frame[-st.CRC_SIZE:] if data != \"q\" else \"\"\n",
    "    return n, l, data, crc\n"
   ]
  }
 ],
 "metadata": {
  "kernelspec": {
   "display_name": "Python 3 (ipykernel)",
   "language": "python",
   "name": "python3"
  },
  "language_info": {
   "codemirror_mode": {
    "name": "ipython",
    "version": 3
   },
   "file_extension": ".py",
   "mimetype": "text/x-python",
   "name": "python",
   "nbconvert_exporter": "python",
   "pygments_lexer": "ipython3",
   "version": "3.9.13"
  }
 },
 "nbformat": 4,
 "nbformat_minor": 5
}
