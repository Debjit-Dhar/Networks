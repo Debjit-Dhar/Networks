{
 "cells": [
  {
   "cell_type": "code",
   "execution_count": null,
   "id": "4b096823-edc0-4098-8746-f3b05d1f723c",
   "metadata": {},
   "outputs": [],
   "source": [
    "import socket\n",
    "import Utils as ut\n",
    "import Statistics as st\n",
    "\n",
    "rn = 0  # Sequence number\n",
    "receiver = socket.socket(socket.AF_INET, socket.SOCK_STREAM)\n",
    "receiver.connect(st.ADDR)\n",
    "\n",
    "def is_corrupted(data, crc):\n",
    "    return ut.crc4itu(data) != crc\n",
    "\n",
    "def send_ack():\n",
    "    ack_frame = ut.makeFrame(rn, \"11110000\")\n",
    "    receiver.send(ack_frame.encode())\n",
    "    print(f\"[ACK SENT] ACK {rn}\")\n",
    "\n",
    "def receive():\n",
    "    global rn\n",
    "    while True:\n",
    "        print(\"[LISTENING] Receiver is listening...\")\n",
    "        frame = receiver.recv(20).decode()\n",
    "        recv_n, _, data, crc = ut.receiveFrame(frame)\n",
    "        \n",
    "        if data == 'q':  # Check for termination\n",
    "            print(\"[CLOSING] Closing receiver...\")\n",
    "            receiver.close()\n",
    "            break\n",
    "\n",
    "        print(f\"[RECEIVED] Frame: {recv_n}, Data: {data}\")\n",
    "\n",
    "        if recv_n == rn:\n",
    "            if not is_corrupted(data, crc):  # Check CRC\n",
    "                print(f\"[CRC SUCCESS] CRC {crc} matches.\")\n",
    "                send_ack()\n",
    "                rn += 1\n",
    "            else:\n",
    "                print(f\"[CRC FAILURE] Mismatch: Calculated {ut.crc4itu(data)}, Received {crc}\")\n",
    "        else:\n",
    "            print(\"[OUT OF ORDER] Received wrong frame.\")\n",
    "        print(\"------------------------------------------------\")\n",
    "\n",
    "receive()\n"
   ]
  }
 ],
 "metadata": {
  "kernelspec": {
   "display_name": "Python 3 (ipykernel)",
   "language": "python",
   "name": "python3"
  },
  "language_info": {
   "codemirror_mode": {
    "name": "ipython",
    "version": 3
   },
   "file_extension": ".py",
   "mimetype": "text/x-python",
   "name": "python",
   "nbconvert_exporter": "python",
   "pygments_lexer": "ipython3",
   "version": "3.9.13"
  }
 },
 "nbformat": 4,
 "nbformat_minor": 5
}
