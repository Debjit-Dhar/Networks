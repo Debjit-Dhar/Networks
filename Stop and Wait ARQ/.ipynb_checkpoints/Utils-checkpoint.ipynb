{
 "cells": [
  {
   "cell_type": "code",
   "execution_count": null,
   "id": "4b096823-edc0-4098-8746-f3b05d1f723c",
   "metadata": {},
   "outputs": [],
   "source": [
    "import random\n",
    "import time\n",
    "import Statistics as st\n",
    "\n",
    "# Inject noise into the data part of the frame\n",
    "def noisychannel(frame):\n",
    "    data_part = list(frame[-st.CRC_SIZE - st.DATA_SIZE: -st.CRC_SIZE])\n",
    "    # Flip random bits in the data part\n",
    "    for index in random.sample(range(len(data_part)), random.randint(0, len(data_part) - 1)):\n",
    "        data_part[index] = '1' if data_part[index] == '0' else '0'\n",
    "    # Rebuild the frame\n",
    "    return frame[:st.N_SIZE + st.LENGTH_SIZE] + ''.join(data_part) + frame[-st.CRC_SIZE:]\n",
    "\n",
    "# Introduce random delay (up to 5 seconds)\n",
    "def delay():\n",
    "    time.sleep(random.randint(0, 5))\n",
    "\n",
    "# XOR operation between two binary strings\n",
    "def xor(a, b):\n",
    "    return ''.join('0' if x == y else '1' for x, y in zip(a, b))\n",
    "\n",
    "# Perform binary division for CRC calculation\n",
    "def binary_division(dividend, divisor):\n",
    "    rem = dividend[:len(divisor)]\n",
    "    for bit in dividend[len(divisor):]:\n",
    "        rem = xor(rem, divisor)[1:] if rem[0] == '1' else rem[1:]\n",
    "        rem += bit\n",
    "    return rem\n",
    "\n",
    "# CRC-4 ITU calculation\n",
    "def crc4itu(frame):\n",
    "    return binary_division(frame + '0000', \"10011\")\n",
    "\n",
    "# Create a frame with sequence number and data\n",
    "def makeFrame(n, data):\n",
    "    return (f\"{str(n).zfill(st.N_SIZE)}{str(len(data)).zfill(st.LENGTH_SIZE)}\"\n",
    "            f\"{data.zfill(st.DATA_SIZE)}{crc4itu(data).zfill(st.CRC_SIZE)}\")\n",
    "\n",
    "# Extract details from received frame\n",
    "def receiveFrame(frame):\n",
    "    n = int(frame[:st.N_SIZE])\n",
    "    l = int(frame[st.N_SIZE:st.N_SIZE + st.LENGTH_SIZE])\n",
    "    data = frame[-st.CRC_SIZE - l: -st.CRC_SIZE]\n",
    "    crc = frame[-st.CRC_SIZE:] if data != 'q' else \"\"\n",
    "    return n, l, data, crc\n"
   ]
  }
 ],
 "metadata": {
  "kernelspec": {
   "display_name": "Python 3 (ipykernel)",
   "language": "python",
   "name": "python3"
  },
  "language_info": {
   "codemirror_mode": {
    "name": "ipython",
    "version": 3
   },
   "file_extension": ".py",
   "mimetype": "text/x-python",
   "name": "python",
   "nbconvert_exporter": "python",
   "pygments_lexer": "ipython3",
   "version": "3.9.13"
  }
 },
 "nbformat": 4,
 "nbformat_minor": 5
}
