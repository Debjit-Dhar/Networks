{
 "cells": [
  {
   "cell_type": "code",
   "execution_count": 3,
   "id": "68e32006-f651-489f-ba71-b5251e07052f",
   "metadata": {},
   "outputs": [],
   "source": [
    "import numpy as np\n",
    "import time"
   ]
  },
  {
   "cell_type": "markdown",
   "id": "16dd63dc-75c5-46ad-9a9e-301979a4caba",
   "metadata": {},
   "source": [
    "# Sender Program"
   ]
  },
  {
   "cell_type": "code",
   "execution_count": 36,
   "id": "746fcc87-b479-45f8-9c69-ecfc0bc44d4f",
   "metadata": {},
   "outputs": [],
   "source": [
    "def read_file(file):\n",
    "    with open(file,'r') as f:\n",
    "        s=f.read()\n",
    "    return s"
   ]
  },
  {
   "cell_type": "code",
   "execution_count": 37,
   "id": "7502e5a9-d267-48cf-96a7-8ef9cef47075",
   "metadata": {},
   "outputs": [],
   "source": [
    "def crc(s, divisor):\n",
    "    orig_s=s\n",
    "    s += '0' * (len(divisor) - 1)\n",
    "    s = list(s)\n",
    "    orig_divisor=divisor\n",
    "    divisor = list(divisor)\n",
    "    for i in range(len(s) - len(divisor) + 1):\n",
    "        if s[i] == '1':  # Only perform XOR if the bit is 1\n",
    "            for j in range(len(divisor)):\n",
    "                s[i + j] = str(int(s[i + j]) ^ int(divisor[j]))\n",
    "    remainder = ''.join(s[-(len(divisor) - 1):])\n",
    "    \n",
    "    return remainder\n",
    "    "
   ]
  },
  {
   "cell_type": "code",
   "execution_count": 38,
   "id": "fec50b2b-6e87-4299-bd11-dfaaf6e3d344",
   "metadata": {},
   "outputs": [],
   "source": [
    "import numpy as np\n",
    "import time\n",
    "def error_inject(s, etype=0):\n",
    "    np.random.seed(int(time.time()))\n",
    "    etype=np.random.randint(0, 8)\n",
    "    print(etype)\n",
    "    esize=np.random.randint(0,len(s))\n",
    "    s = list(s)  \n",
    "    \n",
    "    if etype == 0:\n",
    "        np.random.seed(int(time.time()))\n",
    "        ebit = np.random.randint(0, len(s))\n",
    "        s[ebit] = '1' if s[ebit] == '0' else '0'\n",
    "    \n",
    "    elif etype == 1:\n",
    "        np.random.seed(int(time.time()))\n",
    "        ebit1 = np.random.randint(0, len(s))\n",
    "        ebit2 = np.random.randint(0, len(s))\n",
    "        while ebit1 == ebit2 or abs(ebit1 - ebit2) == 1:\n",
    "            ebit1 = np.random.randint(0, len(s))\n",
    "            ebit2 = np.random.randint(0, len(s))\n",
    "        s[ebit1] = '1' if s[ebit1] == '0' else '0'\n",
    "        s[ebit2] = '1' if s[ebit2] == '0' else '0'\n",
    "    \n",
    "    elif etype == 2:\n",
    "        np.random.seed(int(time.time()))\n",
    "        mid = len(s) // 2\n",
    "        n_error = np.random.randint(0, mid) * 2 + 1\n",
    "        random_list = np.random.choice(len(s), n_error, replace=False)\n",
    "        for idx in random_list:\n",
    "            s[idx] = '1' if s[idx] == '0' else '0'\n",
    "    \n",
    "    elif etype == 3:\n",
    "        np.random.seed(int(time.time()))\n",
    "        random_list = np.random.choice(len(s), esize, replace=False)\n",
    "        print(random_list)\n",
    "        for idx in random_list:\n",
    "            s[idx] = '1' if s[idx] == '0' else '0'\n",
    "    else:\n",
    "        pass\n",
    "    #s[3]='0'\n",
    "    #s[19]='1'\n",
    "    return ''.join(s)  \n"
   ]
  },
  {
   "cell_type": "markdown",
   "id": "19fbc84d-5fcd-4bb2-ae37-03033f231cad",
   "metadata": {},
   "source": [
    "# Get the mac address by using  ipconfig /all in command prompt"
   ]
  },
  {
   "cell_type": "code",
   "execution_count": 39,
   "id": "68e1084c-552f-4edd-ad8e-5bcf75834f6e",
   "metadata": {},
   "outputs": [],
   "source": [
    "def make_frame(data,divisor,length=100,frame_seq_no=0):\n",
    "    source='6018952B925C'#'0000'*5+'0001'#000001\n",
    "    dest='6018952B925C'#'0000'*5+'0010'#000010\n",
    "    trailer=crc(data,divisor)\n",
    "    header=[source,dest,length,frame_seq_no]\n",
    "    frame=[header,data,trailer]\n",
    "    return frame"
   ]
  },
  {
   "cell_type": "code",
   "execution_count": 40,
   "id": "f5f95280-ea70-4b26-8dc8-2e12cbbbe4e6",
   "metadata": {},
   "outputs": [
    {
     "data": {
      "text/plain": [
       "[['6018952B925C', '6018952B925C', 10001, 1], '1001', '110']"
      ]
     },
     "execution_count": 40,
     "metadata": {},
     "output_type": "execute_result"
    }
   ],
   "source": [
    "make_frame('1001','1011',10001,1)"
   ]
  },
  {
   "cell_type": "code",
   "execution_count": 41,
   "id": "6040f134-335c-4574-ad21-da38dead6b5d",
   "metadata": {},
   "outputs": [],
   "source": [
    "import socket\n",
    "import pickle"
   ]
  },
  {
   "cell_type": "code",
   "execution_count": 42,
   "id": "8f0b2ddc-4889-4df9-bf4a-084bacd5d804",
   "metadata": {},
   "outputs": [],
   "source": [
    "import random\n",
    "import time"
   ]
  },
  {
   "cell_type": "code",
   "execution_count": 43,
   "id": "1bb5f54b-6a80-4b27-b271-7bbd4e492932",
   "metadata": {},
   "outputs": [],
   "source": [
    "from datetime import datetime"
   ]
  },
  {
   "cell_type": "code",
   "execution_count": 44,
   "id": "851694af-2921-4b13-9f38-5397741cf04a",
   "metadata": {},
   "outputs": [],
   "source": [
    "class Sender:\n",
    "    def __init__(self,host,port,data,length,seq):\n",
    "        self.data,self.host,self.port,self.length=data,host,port,length,seq\n",
    "    def send(self):\n",
    "        with socket.socket(socket.AF_INET,socket.SOCK_STREAM) as s:\n",
    "            s.connect((self.host,self.port))\n",
    "            s.sendall(pickle.dumps(self.data))\n",
    "    def __str__(self):\n",
    "        return f'{self.host},{self.port} sends {self.data}'\n",
    "    def framing(self,divisor):\n",
    "        return make_frame(self.data,divisor,self.length,self.seq)\n",
    "    def channel(self):\n",
    "        delay = random.uniform(0, 5)\n",
    "        time.sleep(delay)\n",
    "        print(\"Function executed after\", round(delay, 2), \"seconds delay\")\n",
    "        return error_inject(self.data)\n",
    "    def timer(self):\n",
    "        current_time = datetime.now().time()\n",
    "        return round(current_time.second + current_time.microsecond / 1_000_000, 2)\n",
    "    def timeout(self,timemax_time):#True if timeout else false\n",
    "        current_time = datetime.now().time()\n",
    "        if abs(round(current_time.second + current_time.microsecond / 1_000_000, 2)-time)>=max_time:\n",
    "            return True\n",
    "        else:\n",
    "            return False\n",
    "    def recv(self):# True if Acknowledgement else False\n",
    "        response = s.recv(1024)  # 1024 is the buffer size\n",
    "        received_data = pickle.loads(response)\n",
    "        if received_data==1:\n",
    "            return True\n",
    "        else:\n",
    "            return False"
   ]
  },
  {
   "cell_type": "code",
   "execution_count": null,
   "id": "877ad3d3-d633-4b9c-afab-2e1e03b4de82",
   "metadata": {},
   "outputs": [],
   "source": []
  }
 ],
 "metadata": {
  "kernelspec": {
   "display_name": "Python 3 (ipykernel)",
   "language": "python",
   "name": "python3"
  },
  "language_info": {
   "codemirror_mode": {
    "name": "ipython",
    "version": 3
   },
   "file_extension": ".py",
   "mimetype": "text/x-python",
   "name": "python",
   "nbconvert_exporter": "python",
   "pygments_lexer": "ipython3",
   "version": "3.9.13"
  }
 },
 "nbformat": 4,
 "nbformat_minor": 5
}
