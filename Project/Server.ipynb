{
 "cells": [
  {
   "cell_type": "code",
   "execution_count": 45,
   "id": "d4e2f047-39c6-4154-9206-61cbe27b6a99",
   "metadata": {},
   "outputs": [],
   "source": [
    "import socket\n",
    "import time\n",
    "import dns.resolver  # dnspython library for external DNS queries\n",
    "from collections import OrderedDict\n"
   ]
  },
  {
   "cell_type": "markdown",
   "id": "aff3cb73-566b-4e27-aa61-f8c9ad3a720e",
   "metadata": {},
   "source": [
    "# Root Servers"
   ]
  },
  {
   "cell_type": "code",
   "execution_count": 46,
   "id": "b86d708b-9334-4411-b9a9-bce105cb8141",
   "metadata": {},
   "outputs": [],
   "source": [
    "\n",
    "# Simulated DNS records for root, TLD, and authoritative servers\n",
    "ROOT_SERVERS = {\n",
    "    \"com\": \"198.41.0.4\",\n",
    "    \"edu\": \"192.5.5.241\",\n",
    "    \"gov\": \"192.203.230.10\",\n",
    "    \"in\": \"203.119.86.101\"\n",
    "}\n"
   ]
  },
  {
   "cell_type": "markdown",
   "id": "c02077c2-d948-4e8e-ba37-a33f39609482",
   "metadata": {},
   "source": [
    "# Authoritative Servers"
   ]
  },
  {
   "cell_type": "code",
   "execution_count": 47,
   "id": "3a72f31a-bf61-4f42-b2de-cb429eeba811",
   "metadata": {},
   "outputs": [],
   "source": [
    "\n",
    "TLD_SERVERS = {\n",
    "    \"com\": {\n",
    "        \"example.com\": \"93.184.216.34\",\n",
    "        \"localtest.com\": \"127.0.0.1\",\n",
    "        \"abcd.com\": \"108.98.98.2\",\n",
    "        \"fakecompany.com\": \"420.420.0.10\"\n",
    "    },\n",
    "    \"edu\": {\n",
    "        \"fakeinstitute.edu\": \"100.5.5.3\"\n",
    "    },\n",
    "    \"gov\": {\n",
    "        \"fakegovt.gov\": \"40.3.3.1\"\n",
    "    },\n",
    "    \"in\": {\n",
    "        \"xyz.in\": \"99.0.0.5\"\n",
    "    }\n",
    "}\n"
   ]
  },
  {
   "cell_type": "markdown",
   "id": "df00b1a8-0deb-4dd2-914b-ef885c5878bc",
   "metadata": {},
   "source": [
    "# Update Cache"
   ]
  },
  {
   "cell_type": "code",
   "execution_count": 48,
   "id": "27f8ad8c-539d-4b41-94fc-182fe29d5978",
   "metadata": {},
   "outputs": [],
   "source": [
    "\n",
    "# Cache with fixed size and TTL management\n",
    "CACHE_SIZE = 2\n",
    "DEFAULT_TTL = 5  # Default TTL for each cache entry in seconds\n",
    "DNS_CACHE = OrderedDict()  # OrderedDict to maintain insertion order for LRU policy\n",
    "\n",
    "def update_cache(domain_name, ip_address):\n",
    "    \"\"\"Add a new entry to the cache with TTL, or update existing entry.\"\"\"\n",
    "    current_time = time.time()\n",
    "    # Check if domain is already in cache and update its expiration\n",
    "    if domain_name in DNS_CACHE:\n",
    "        DNS_CACHE.move_to_end(domain_name)\n",
    "    elif len(DNS_CACHE) >= CACHE_SIZE:\n",
    "        # Cache is full, remove the oldest entry\n",
    "        DNS_CACHE.popitem(last=False)\n",
    "    # Add the entry with a new TTL\n",
    "    DNS_CACHE[domain_name] = (ip_address, current_time + DEFAULT_TTL)\n",
    "    \n"
   ]
  },
  {
   "cell_type": "markdown",
   "id": "80d9f698-0bd8-4600-94b6-a66b4b4ebb8e",
   "metadata": {},
   "source": [
    "# Acces Cache"
   ]
  },
  {
   "cell_type": "code",
   "execution_count": 49,
   "id": "6ce998c9-8700-4568-8230-4c38bab909c6",
   "metadata": {},
   "outputs": [],
   "source": [
    "\n",
    "def get_from_cache(domain_name):\n",
    "    \"\"\"Retrieve an IP from the cache if it exists and has not expired.\"\"\"\n",
    "    current_time = time.time()\n",
    "    # Check if the domain is in cache and validate TTL\n",
    "    #print(DNS_CACHE)\n",
    "    if domain_name in DNS_CACHE:\n",
    "        ip_address, expiration = DNS_CACHE[domain_name]\n",
    "        if current_time < expiration:\n",
    "            DNS_CACHE.move_to_end(domain_name)  # Update usage order for LRU policy\n",
    "            return ip_address\n",
    "        else:\n",
    "            # Entry expired, remove it\n",
    "            del DNS_CACHE[domain_name]\n",
    "    return None\n"
   ]
  },
  {
   "cell_type": "markdown",
   "id": "5f5e689d-beba-4733-90e5-7b376a3e68d6",
   "metadata": {},
   "source": [
    "# Iterative DNS Resolution"
   ]
  },
  {
   "cell_type": "code",
   "execution_count": 50,
   "id": "5144aab8-2bf5-44ce-94e5-0971e7542a26",
   "metadata": {},
   "outputs": [],
   "source": [
    "\n",
    "def iterative_query(domain_name):\n",
    "    # Query root server based on TLD\n",
    "    tld = domain_name.split('.')[-1]\n",
    "    if tld not in ROOT_SERVERS:\n",
    "        print(f\"Root server does not recognize TLD: {tld}\")\n",
    "        return None\n",
    "    print(f\"Querying root server for TLD '{tld}', IP: {ROOT_SERVERS[tld]}\")\n",
    "\n",
    "    # Query the specific TLD server based on the TLD\n",
    "    tld_server = TLD_SERVERS.get(tld)\n",
    "    if tld_server and domain_name in tld_server:\n",
    "        ip_address = tld_server[domain_name]\n",
    "        print(f\"TLD server resolved domain '{domain_name}' to IP: {ip_address}\")\n",
    "        return ip_address\n",
    "\n",
    "    # If domain is not found in our TLD servers, return None\n",
    "    print(f\"TLD server could not resolve domain: {domain_name}\")\n",
    "    return None\n"
   ]
  },
  {
   "cell_type": "markdown",
   "id": "0e09dded-5826-4aa3-b3ff-7bbfe93c62ca",
   "metadata": {},
   "source": [
    "# DNS Server"
   ]
  },
  {
   "cell_type": "code",
   "execution_count": 51,
   "id": "d2aefd9d-7002-4df2-9ba6-44742a7c69c4",
   "metadata": {},
   "outputs": [],
   "source": [
    "\n",
    "def handle_query(data, addr, server):\n",
    "    domain_name = data.decode('utf-8').strip()\n",
    "    print(f\"Received query for: {domain_name} from {addr}\")\n",
    "\n",
    "    # Step 1: Check in DNS cache and serve if available\n",
    "    cached_ip = get_from_cache(domain_name)\n",
    "    if cached_ip:\n",
    "        print(f\"Cache hit for {domain_name}. Sending IP: {cached_ip}\")\n",
    "        server.sendto(cached_ip.encode('utf-8'), addr)\n",
    "        return\n",
    "\n",
    "    # Step 2: Perform iterative resolution using simulated root and TLD servers\n",
    "    ip_address = iterative_query(domain_name)\n",
    "    if ip_address:\n",
    "        server.sendto(ip_address.encode('utf-8'), addr)\n",
    "        # Add to cache with a new TTL\n",
    "        update_cache(domain_name, ip_address)\n",
    "    else:\n",
    "        # Step 3: External DNS query if not found locally or in simulated servers\n",
    "        try:\n",
    "            print(f\"Domain not found in simulated DNS servers. Querying external DNS for {domain_name}.\")\n",
    "            result = dns.resolver.resolve(domain_name, 'A')\n",
    "            external_ip = result[0].to_text()\n",
    "            print(f\"External DNS resolved {domain_name} to {external_ip}\")\n",
    "            server.sendto(external_ip.encode('utf-8'), addr)\n",
    "            # Cache the result with a TTL\n",
    "            update_cache(domain_name, external_ip)\n",
    "        except Exception as e:\n",
    "            print(f\"Failed to resolve {domain_name}: {e}\")\n",
    "            server.sendto(b\"NOT_FOUND\", addr)\n"
   ]
  },
  {
   "cell_type": "code",
   "execution_count": 52,
   "id": "d8edd423-c6ad-43ac-89f4-dd555c02b419",
   "metadata": {},
   "outputs": [],
   "source": [
    "\n",
    "def dns_server(timeout_seconds):\n",
    "    server = socket.socket(socket.AF_INET, socket.SOCK_DGRAM)\n",
    "    try:\n",
    "        server.bind(('0.0.0.0', 5053))  # Cloud instance will use public IP\n",
    "        server.settimeout(5)  # Set a small timeout for receiving data to make the server non-blocking\n",
    "\n",
    "        print(f\"DNS Server is running on port 5053... (will shut down after {timeout_seconds} seconds)\")\n",
    "        \n",
    "        start_time = time.time()  # Record the start time\n",
    "        while True:\n",
    "            if time.time() - start_time > timeout_seconds:\n",
    "                print(f\"Shutting down server after {timeout_seconds} seconds of inactivity.\")\n",
    "                break\n",
    "\n",
    "            try:\n",
    "                data, addr = server.recvfrom(512)\n",
    "                handle_query(data, addr, server)\n",
    "            except socket.timeout:\n",
    "                continue\n",
    "\n",
    "    except OSError as e:\n",
    "        print(f\"Error: {e}\")\n",
    "    finally:\n",
    "        server.close()\n",
    "        print(\"DNS Server shut down.\")\n"
   ]
  },
  {
   "cell_type": "code",
   "execution_count": 57,
   "id": "3e2218b7-32b8-4405-8db5-4c947e28790d",
   "metadata": {},
   "outputs": [
    {
     "name": "stdout",
     "output_type": "stream",
     "text": [
      "DNS Server is running on port 5053... (will shut down after 60 seconds)\n",
      "Received query for: nknk from ('127.0.0.1', 56522)\n",
      "Root server does not recognize TLD: nknk\n",
      "Domain not found in simulated DNS servers. Querying external DNS for nknk.\n",
      "Failed to resolve nknk: The DNS query name does not exist: nknk.\n",
      "Received query for: google.com from ('127.0.0.1', 51556)\n",
      "Querying root server for TLD 'com', IP: 198.41.0.4\n",
      "TLD server could not resolve domain: google.com\n",
      "Domain not found in simulated DNS servers. Querying external DNS for google.com.\n",
      "External DNS resolved google.com to 142.251.42.14\n",
      "Received query for: google.com from ('127.0.0.1', 64532)\n",
      "Cache hit for google.com. Sending IP: 142.251.42.14\n",
      "Received query for: fakeinstitute.edu from ('127.0.0.1', 55119)\n",
      "Querying root server for TLD 'edu', IP: 192.5.5.241\n",
      "TLD server resolved domain 'fakeinstitute.edu' to IP: 100.5.5.3\n",
      "Received query for: google.com from ('127.0.0.1', 56051)\n",
      "Querying root server for TLD 'com', IP: 198.41.0.4\n",
      "TLD server could not resolve domain: google.com\n",
      "Domain not found in simulated DNS servers. Querying external DNS for google.com.\n",
      "External DNS resolved google.com to 142.251.42.14\n",
      "Shutting down server after 60 seconds of inactivity.\n",
      "DNS Server shut down.\n"
     ]
    }
   ],
   "source": [
    "\n",
    "if __name__ == \"__main__\":\n",
    "    # Run the server for 60 seconds (or any custom duration)\n",
    "    dns_server(timeout_seconds=60)\n"
   ]
  },
  {
   "cell_type": "code",
   "execution_count": null,
   "id": "cd9cd6e8-9189-4164-a3ed-36ba5ca50997",
   "metadata": {},
   "outputs": [],
   "source": []
  }
 ],
 "metadata": {
  "kernelspec": {
   "display_name": "Python 3 (ipykernel)",
   "language": "python",
   "name": "python3"
  },
  "language_info": {
   "codemirror_mode": {
    "name": "ipython",
    "version": 3
   },
   "file_extension": ".py",
   "mimetype": "text/x-python",
   "name": "python",
   "nbconvert_exporter": "python",
   "pygments_lexer": "ipython3",
   "version": "3.9.13"
  }
 },
 "nbformat": 4,
 "nbformat_minor": 5
}
