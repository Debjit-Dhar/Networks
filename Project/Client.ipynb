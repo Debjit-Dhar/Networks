{
 "cells": [
  {
   "cell_type": "code",
   "execution_count": 45,
   "id": "36488be9-aee0-4979-96bc-43f68abe1306",
   "metadata": {},
   "outputs": [
    {
     "name": "stdin",
     "output_type": "stream",
     "text": [
      "Enter the domain name:  google.com\n"
     ]
    },
    {
     "name": "stdout",
     "output_type": "stream",
     "text": [
      "DNS resolved 'google.com' to 142.251.42.14\n"
     ]
    }
   ],
   "source": [
    "import socket\n",
    "import dns.resolver  # Requires dnspython\n",
    "\n",
    "# Function to query the local DNS server\n",
    "def query_dns_server(server_address, domain_name):\n",
    "    client = socket.socket(socket.AF_INET, socket.SOCK_DGRAM)\n",
    "    try:\n",
    "        client.sendto(domain_name.encode('utf-8'), server_address)\n",
    "        data, _ = client.recvfrom(512)  # 512 bytes buffer size\n",
    "        return data.decode('utf-8')\n",
    "    except Exception as e:\n",
    "        print(f\"Error querying DNS server: {e}\")\n",
    "        return None\n",
    "    finally:\n",
    "        client.close()\n",
    "\n",
    "if __name__ == \"__main__\":\n",
    "    domain_name = input(\"Enter the domain name: \")\n",
    "\n",
    "    # First query the local DNS server\n",
    "    local_dns_server_address = ('127.0.0.1', 5053)\n",
    "    local_response = query_dns_server(local_dns_server_address, domain_name)\n",
    "    if 'NOT_FOUND' in local_response:\n",
    "        print(f\"Fatal Error: Domain Name does not exist\")\n",
    "    else:\n",
    "        print(f\"DNS resolved '{domain_name}' to {local_response}\")\n"
   ]
  },
  {
   "cell_type": "code",
   "execution_count": null,
   "id": "459bef55-b41d-4d5a-a419-c0f6bd918ef9",
   "metadata": {},
   "outputs": [],
   "source": []
  }
 ],
 "metadata": {
  "kernelspec": {
   "display_name": "Python 3 (ipykernel)",
   "language": "python",
   "name": "python3"
  },
  "language_info": {
   "codemirror_mode": {
    "name": "ipython",
    "version": 3
   },
   "file_extension": ".py",
   "mimetype": "text/x-python",
   "name": "python",
   "nbconvert_exporter": "python",
   "pygments_lexer": "ipython3",
   "version": "3.9.13"
  }
 },
 "nbformat": 4,
 "nbformat_minor": 5
}
