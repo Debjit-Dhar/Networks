{
 "cells": [
  {
   "cell_type": "code",
   "execution_count": null,
   "id": "9700237d-644e-48fc-934f-37e6cf692531",
   "metadata": {},
   "outputs": [
    {
     "name": "stdout",
     "output_type": "stream",
     "text": [
      "TLD Server is running on port 5058...\n",
      "TLD Server received query for: example.com\n",
      "TLD Server received query for: google.com\n"
     ]
    }
   ],
   "source": [
    "import socket\n",
    "\n",
    "# Domain data for .com TLD\n",
    "COM_DOMAINS = {\n",
    "    \"example.com\": \"93.184.216.34\",\n",
    "    \"localtest.com\": \"127.0.0.1\",\n",
    "    \"abcd.com\": \"108.98.98.2\",\n",
    "}\n",
    "\n",
    "def tld_server(port, domain_data):\n",
    "    server = socket.socket(socket.AF_INET, socket.SOCK_DGRAM)\n",
    "    try:\n",
    "        server.bind(('127.0.0.1', port))\n",
    "        print(f\"TLD Server is running on port {port}...\")\n",
    "\n",
    "        while True:\n",
    "            data, addr = server.recvfrom(512)\n",
    "            domain_name = data.decode('utf-8').strip()\n",
    "            print(f\"TLD Server received query for: {domain_name}\")\n",
    "            \n",
    "            ip_address = domain_data.get(domain_name, \"NOT_FOUND\")\n",
    "            server.sendto(ip_address.encode('utf-8'), addr)\n",
    "\n",
    "    finally:\n",
    "        server.close()\n",
    "        print(\"TLD Server shut down.\")\n",
    "\n",
    "if __name__ == \"__main__\":\n",
    "    tld_server(port=5058, domain_data=COM_DOMAINS)\n"
   ]
  },
  {
   "cell_type": "code",
   "execution_count": null,
   "id": "c5410a4f-21fd-4838-b7a1-5ed2d01e8648",
   "metadata": {},
   "outputs": [],
   "source": []
  }
 ],
 "metadata": {
  "kernelspec": {
   "display_name": "Python 3 (ipykernel)",
   "language": "python",
   "name": "python3"
  },
  "language_info": {
   "codemirror_mode": {
    "name": "ipython",
    "version": 3
   },
   "file_extension": ".py",
   "mimetype": "text/x-python",
   "name": "python",
   "nbconvert_exporter": "python",
   "pygments_lexer": "ipython3",
   "version": "3.9.13"
  }
 },
 "nbformat": 4,
 "nbformat_minor": 5
}
