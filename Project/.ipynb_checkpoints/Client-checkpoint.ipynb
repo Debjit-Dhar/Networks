{
 "cells": [
  {
   "cell_type": "code",
   "execution_count": 17,
   "id": "459bef55-b41d-4d5a-a419-c0f6bd918ef9",
   "metadata": {},
   "outputs": [
    {
     "name": "stdin",
     "output_type": "stream",
     "text": [
      "Enter the domain name:  debjitdharisgod.com\n"
     ]
    },
    {
     "name": "stdout",
     "output_type": "stream",
     "text": [
      "Fatal Error: Domain Name does not exist\n"
     ]
    }
   ],
   "source": [
    "import pickle\n",
    "import socket\n",
    "\n",
    "class DNS_MESSAGE:\n",
    "    def __init__(self):\n",
    "        self.header = None\n",
    "        self.question = None\n",
    "        self.answer = None\n",
    "\n",
    "    def create(self, domain_name, ip_addr=None, type=0):\n",
    "        self.header = (0, 0, 1, 0, 0, 0) if type == 0 else (0, 0, 1, 1, 0, 0)\n",
    "        self.question = domain_name\n",
    "        self.answer = ip_addr\n",
    "\n",
    "    def serialize(self):\n",
    "        return pickle.dumps(self)\n",
    "\n",
    "    @staticmethod\n",
    "    def deserialize(data):\n",
    "        return pickle.loads(data)\n",
    "\n",
    "\n",
    "def query_dns_server(server_address, domain_name):\n",
    "    client = socket.socket(socket.AF_INET, socket.SOCK_DGRAM)\n",
    "    try:\n",
    "        message = DNS_MESSAGE()\n",
    "        message.create(domain_name)\n",
    "        serialized_message = message.serialize()\n",
    "\n",
    "        client.sendto(serialized_message, server_address)\n",
    "        data, _ = client.recvfrom(512)\n",
    "        response = DNS_MESSAGE.deserialize(data)\n",
    "        return response\n",
    "    except Exception as e:\n",
    "        print(f\"Error querying DNS server: {e}\")\n",
    "        return None\n",
    "    finally:\n",
    "        client.close()\n",
    "\n",
    "\n",
    "if __name__ == \"__main__\":\n",
    "    domain_name = input(\"Enter the domain name: \")\n",
    "    local_dns_server_address = ('127.0.0.1', 6053)\n",
    "    response = query_dns_server(local_dns_server_address, domain_name)\n",
    "\n",
    "    if response and response.answer == \"NOT_FOUND\":\n",
    "        print(\"Fatal Error: Domain Name does not exist\")\n",
    "    else:\n",
    "        print(f\"DNS resolved '{domain_name}' to {response.answer}\")\n"
   ]
  },
  {
   "cell_type": "code",
   "execution_count": null,
   "id": "7fdbfd03-888a-4ec5-b33c-6a133d24ae6b",
   "metadata": {},
   "outputs": [],
   "source": []
  }
 ],
 "metadata": {
  "kernelspec": {
   "display_name": "Python 3 (ipykernel)",
   "language": "python",
   "name": "python3"
  },
  "language_info": {
   "codemirror_mode": {
    "name": "ipython",
    "version": 3
   },
   "file_extension": ".py",
   "mimetype": "text/x-python",
   "name": "python",
   "nbconvert_exporter": "python",
   "pygments_lexer": "ipython3",
   "version": "3.9.13"
  }
 },
 "nbformat": 4,
 "nbformat_minor": 5
}
