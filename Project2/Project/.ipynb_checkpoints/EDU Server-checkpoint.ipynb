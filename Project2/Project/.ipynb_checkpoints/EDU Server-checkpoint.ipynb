{
 "cells": [
  {
   "cell_type": "code",
   "execution_count": null,
   "id": "3be06086-1266-4578-ad17-33202df28cdb",
   "metadata": {},
   "outputs": [
    {
     "name": "stdout",
     "output_type": "stream",
     "text": [
      "TLD Server is running on port 5055...\n"
     ]
    }
   ],
   "source": [
    "import socket\n",
    "\n",
    "# Domain data for .com TLD\n",
    "EDU_DOMAINS = {\n",
    "    \"example.edu\": \"192.0.2.45\",\n",
    "    \"university.edu\": \"198.51.100.23\"\n",
    "}\n",
    "\n",
    "\n",
    "def tld_server(port, domain_data):\n",
    "    server = socket.socket(socket.AF_INET, socket.SOCK_DGRAM)\n",
    "    try:\n",
    "        server.bind(('127.0.0.1', port))\n",
    "        print(f\"TLD Server is running on port {port}...\")\n",
    "\n",
    "        while True:\n",
    "            data, addr = server.recvfrom(512)\n",
    "            domain_name = data.decode('utf-8').strip()\n",
    "            print(f\"TLD Server received query for: {domain_name}\")\n",
    "            \n",
    "            ip_address = domain_data.get(domain_name, \"NOT_FOUND\")\n",
    "            server.sendto(ip_address.encode('utf-8'), addr)\n",
    "\n",
    "    finally:\n",
    "        server.close()\n",
    "        print(\"TLD Server shut down.\")\n",
    "\n",
    "if __name__ == \"__main__\":\n",
    "    tld_server(port=5055, domain_data=EDU_DOMAINS)\n"
   ]
  },
  {
   "cell_type": "code",
   "execution_count": null,
   "id": "d58139f7-56d7-4019-aeec-91c0f6a734d9",
   "metadata": {},
   "outputs": [],
   "source": []
  }
 ],
 "metadata": {
  "kernelspec": {
   "display_name": "Python 3 (ipykernel)",
   "language": "python",
   "name": "python3"
  },
  "language_info": {
   "codemirror_mode": {
    "name": "ipython",
    "version": 3
   },
   "file_extension": ".py",
   "mimetype": "text/x-python",
   "name": "python",
   "nbconvert_exporter": "python",
   "pygments_lexer": "ipython3",
   "version": "3.9.13"
  }
 },
 "nbformat": 4,
 "nbformat_minor": 5
}
